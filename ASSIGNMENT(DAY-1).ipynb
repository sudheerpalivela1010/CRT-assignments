{
 "cells": [
  {
   "cell_type": "code",
   "execution_count": 1,
   "id": "36b2ae7d-a072-4e9b-ab77-29c67aca8cbf",
   "metadata": {},
   "outputs": [
    {
     "name": "stdout",
     "output_type": "stream",
     "text": [
      "Integer Variable:  42 , Type:  <class 'int'>\n",
      "Float Variable:  3.14 , Type:  <class 'float'>\n",
      "String Variable:  Hello, Jupyter! , Type:  <class 'str'>\n",
      "Boolean Variable:  True , Type:  <class 'bool'>\n"
     ]
    }
   ],
   "source": [
    "integer_variable = 42 \n",
    "float_variable = 3.14 \n",
    "string_variable = \"Hello, Jupyter!\" \n",
    "boolean_variable = True  \n",
    "print(\"Integer Variable: \", integer_variable, \", Type: \", type(integer_variable))\n",
    "print(\"Float Variable: \", float_variable, \", Type: \", type(float_variable))\n",
    "print(\"String Variable: \", string_variable, \", Type: \", type(string_variable))\n",
    "print(\"Boolean Variable: \", boolean_variable, \", Type: \", type(boolean_variable))"
   ]
  },
  {
   "cell_type": "code",
   "execution_count": null,
   "id": "c5b3063c-e103-4214-b6fa-260ba920f785",
   "metadata": {},
   "outputs": [],
   "source": []
  }
 ],
 "metadata": {
  "kernelspec": {
   "display_name": "Python 3 (ipykernel)",
   "language": "python",
   "name": "python3"
  },
  "language_info": {
   "codemirror_mode": {
    "name": "ipython",
    "version": 3
   },
   "file_extension": ".py",
   "mimetype": "text/x-python",
   "name": "python",
   "nbconvert_exporter": "python",
   "pygments_lexer": "ipython3",
   "version": "3.12.7"
  }
 },
 "nbformat": 4,
 "nbformat_minor": 5
}
