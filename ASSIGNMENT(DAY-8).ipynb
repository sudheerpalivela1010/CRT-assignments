{
 "cells": [
  {
   "cell_type": "code",
   "execution_count": 2,
   "id": "40d1ac97-26e8-4cc3-a26b-257ce025e61e",
   "metadata": {},
   "outputs": [
    {
     "name": "stdout",
     "output_type": "stream",
     "text": [
      "Sentences Tokenization:\n",
      "\n",
      "Natural Language Processing (NLP) is a field of artificial intelligence that focuses on the interaction between computers and human language.\n",
      "It involves tasks such as speech recognition, sentiment analysis, and machine translation.\n",
      "NLP uses various techniques, including tokenization, parsing, and lemmatization, to understand and generate human language.\n",
      "\n",
      "Words Tokenization:\n",
      "['Natural', 'Language', 'Processing', '(', 'NLP', ')', 'is', 'a', 'field', 'of', 'artificial', 'intelligence', 'that', 'focuses', 'on', 'the', 'interaction', 'between', 'computers', 'and', 'human', 'language', '.', 'It', 'involves', 'tasks', 'such', 'as', 'speech', 'recognition', ',', 'sentiment', 'analysis', ',', 'and', 'machine', 'translation', '.', 'NLP', 'uses', 'various', 'techniques', ',', 'including', 'tokenization', ',', 'parsing', ',', 'and', 'lemmatization', ',', 'to', 'understand', 'and', 'generate', 'human', 'language', '.']\n"
     ]
    }
   ],
   "source": [
    "import nltk\n",
    "from nltk.tokenize import word_tokenize, sent_tokenize\n",
    "\n",
    "paragraph = \"\"\"\n",
    "Natural Language Processing (NLP) is a field of artificial intelligence that focuses on the interaction between computers and human language. \n",
    "It involves tasks such as speech recognition, sentiment analysis, and machine translation. NLP uses various techniques, including tokenization, parsing, and lemmatization, to understand and generate human language.\n",
    "\"\"\"\n",
    "\n",
    "sentences = sent_tokenize(paragraph)\n",
    "words = word_tokenize(paragraph)\n",
    "\n",
    "print(\"Sentences Tokenization:\")\n",
    "for sentence in sentences:\n",
    "    print(sentence)\n",
    "\n",
    "print(\"\\nWords Tokenization:\")\n",
    "print(words)"
   ]
  },
  {
   "cell_type": "code",
   "execution_count": null,
   "id": "d3639d0b-b2e0-48d4-83ff-99ee116f2e18",
   "metadata": {},
   "outputs": [],
   "source": []
  }
 ],
 "metadata": {
  "kernelspec": {
   "display_name": "Python 3 (ipykernel)",
   "language": "python",
   "name": "python3"
  },
  "language_info": {
   "codemirror_mode": {
    "name": "ipython",
    "version": 3
   },
   "file_extension": ".py",
   "mimetype": "text/x-python",
   "name": "python",
   "nbconvert_exporter": "python",
   "pygments_lexer": "ipython3",
   "version": "3.12.7"
  }
 },
 "nbformat": 4,
 "nbformat_minor": 5
}
