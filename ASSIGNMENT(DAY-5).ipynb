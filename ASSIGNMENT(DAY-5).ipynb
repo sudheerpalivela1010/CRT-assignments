{
 "cells": [
  {
   "cell_type": "code",
   "execution_count": 1,
   "id": "293f8aad-6416-4e36-ae7e-7a76c4af4836",
   "metadata": {},
   "outputs": [
    {
     "name": "stdin",
     "output_type": "stream",
     "text": [
      "Enter the text:  Hey, I am a developer\n"
     ]
    },
    {
     "name": "stdout",
     "output_type": "stream",
     "text": [
      "\n",
      "Word frequencies:\n",
      "'hey,': 1\n",
      "'i': 1\n",
      "'am': 1\n",
      "'a': 1\n",
      "'developer': 1\n"
     ]
    }
   ],
   "source": [
    "text = input(\"Enter the text: \")\n",
    "words = text.lower().split()\n",
    "word_count = {}\n",
    "\n",
    "for word in words:\n",
    "    if word in word_count:\n",
    "        word_count[word] += 1\n",
    "    else:\n",
    "        word_count[word] = 1\n",
    "\n",
    "print(\"\\nWord frequencies:\")\n",
    "for word, count in word_count.items():\n",
    "    print(f\"'{word}': {count}\")\n"
   ]
  },
  {
   "cell_type": "code",
   "execution_count": null,
   "id": "556087ba-e286-4815-bdb9-ea6d2b3065d0",
   "metadata": {},
   "outputs": [],
   "source": []
  }
 ],
 "metadata": {
  "kernelspec": {
   "display_name": "Python 3 (ipykernel)",
   "language": "python",
   "name": "python3"
  },
  "language_info": {
   "codemirror_mode": {
    "name": "ipython",
    "version": 3
   },
   "file_extension": ".py",
   "mimetype": "text/x-python",
   "name": "python",
   "nbconvert_exporter": "python",
   "pygments_lexer": "ipython3",
   "version": "3.12.7"
  }
 },
 "nbformat": 4,
 "nbformat_minor": 5
}
