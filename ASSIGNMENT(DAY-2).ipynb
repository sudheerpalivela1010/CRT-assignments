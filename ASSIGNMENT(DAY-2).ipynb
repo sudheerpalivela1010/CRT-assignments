{
 "cells": [
  {
   "cell_type": "code",
   "execution_count": 1,
   "id": "a4fd04e8-b234-4259-8095-a76d1ddbadb6",
   "metadata": {},
   "outputs": [
    {
     "name": "stdout",
     "output_type": "stream",
     "text": [
      "List Example:\n",
      "First element: 10\n",
      "Last element: 50\n",
      "Slice from index 1 to 3: [20, 30, 40]\n",
      "\n",
      "Tuple Example:\n",
      "Second element: banana\n",
      "Last element: elderberry\n",
      "Slice from index 2 to 4: ('cherry', 'date', 'elderberry')\n",
      "\n",
      "Dictionary Example:\n",
      "Value for key 'name': Alice\n",
      "Value for key 'city': New York\n",
      "Keys and Values: dict_keys(['name', 'age', 'city', 'job', 'hobby']) dict_values(['Alice', 25, 'New York', 'Engineer', 'Photography'])\n"
     ]
    }
   ],
   "source": [
    "my_list = [10, 20, 30, 40, 50]  \n",
    "my_tuple = ('apple', 'banana', 'cherry', 'date', 'elderberry') \n",
    "my_dict = {'name': 'Alice', 'age': 25, 'city': 'New York', 'job': 'Engineer', 'hobby': 'Photography'} \n",
    "\n",
    "print(\"List Example:\")\n",
    "print(\"First element:\", my_list[0])  \n",
    "print(\"Last element:\", my_list[-1])\n",
    "print(\"Slice from index 1 to 3:\", my_list[1:4])  \n",
    "print(\"\\nTuple Example:\")\n",
    "print(\"Second element:\", my_tuple[1])  \n",
    "print(\"Last element:\", my_tuple[-1])  \n",
    "print(\"Slice from index 2 to 4:\", my_tuple[2:5])  \n",
    "print(\"\\nDictionary Example:\")\n",
    "print(\"Value for key 'name':\", my_dict['name'])  \n",
    "print(\"Value for key 'city':\", my_dict['city'])  \n",
    "print(\"Keys and Values:\", my_dict.keys(), my_dict.values()) \n"
   ]
  },
  {
   "cell_type": "code",
   "execution_count": null,
   "id": "be74fe50-c84b-41e2-809f-91da76ed6208",
   "metadata": {},
   "outputs": [],
   "source": []
  }
 ],
 "metadata": {
  "kernelspec": {
   "display_name": "Python 3 (ipykernel)",
   "language": "python",
   "name": "python3"
  },
  "language_info": {
   "codemirror_mode": {
    "name": "ipython",
    "version": 3
   },
   "file_extension": ".py",
   "mimetype": "text/x-python",
   "name": "python",
   "nbconvert_exporter": "python",
   "pygments_lexer": "ipython3",
   "version": "3.12.7"
  }
 },
 "nbformat": 4,
 "nbformat_minor": 5
}
