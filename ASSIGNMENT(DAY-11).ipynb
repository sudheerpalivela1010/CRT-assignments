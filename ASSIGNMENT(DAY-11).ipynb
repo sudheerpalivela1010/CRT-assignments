{
 "cells": [
  {
   "cell_type": "code",
   "execution_count": 2,
   "id": "e4addb23-9ff6-44c5-9aa5-3f9a242090f4",
   "metadata": {},
   "outputs": [
    {
     "name": "stdout",
     "output_type": "stream",
     "text": [
      "Webpage Title: ExcelR - Global Certification Training for Professionals\n"
     ]
    }
   ],
   "source": [
    "import requests\n",
    "from bs4 import BeautifulSoup\n",
    "\n",
    "def fetch_webpage_title(url):\n",
    "    \"\"\"\n",
    "    Fetches and prints the title of a webpage.\n",
    "    \n",
    "    Args:\n",
    "    url (str): The URL of the webpage.\n",
    "    \n",
    "    Returns:\n",
    "    str: The title of the webpage.\n",
    "    \"\"\"\n",
    "    try:\n",
    "        response = requests.get(url)\n",
    "        response.raise_for_status()  \n",
    "        soup = BeautifulSoup(response.text, 'html.parser')\n",
    "        title = soup.title.string if soup.title else \"No title found\"\n",
    "        return title\n",
    "    except requests.exceptions.RequestException as e:\n",
    "        return f\"Error fetching the webpage: {e}\"\n",
    "\n",
    "url = \"https://Excelr.com\"\n",
    "title = fetch_webpage_title(url)\n",
    "print(\"Webpage Title:\", title)\n"
   ]
  },
  {
   "cell_type": "code",
   "execution_count": null,
   "id": "0fbed393-d7e7-4d02-892b-7d4e9e3010f1",
   "metadata": {},
   "outputs": [],
   "source": []
  }
 ],
 "metadata": {
  "kernelspec": {
   "display_name": "Python 3 (ipykernel)",
   "language": "python",
   "name": "python3"
  },
  "language_info": {
   "codemirror_mode": {
    "name": "ipython",
    "version": 3
   },
   "file_extension": ".py",
   "mimetype": "text/x-python",
   "name": "python",
   "nbconvert_exporter": "python",
   "pygments_lexer": "ipython3",
   "version": "3.12.7"
  }
 },
 "nbformat": 4,
 "nbformat_minor": 5
}
