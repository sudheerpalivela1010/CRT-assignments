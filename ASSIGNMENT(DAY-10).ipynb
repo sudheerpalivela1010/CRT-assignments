{
 "cells": [
  {
   "cell_type": "code",
   "execution_count": 1,
   "id": "70e1a0b8-e9a6-4ebf-9740-dd44948acd99",
   "metadata": {},
   "outputs": [
    {
     "name": "stdout",
     "output_type": "stream",
     "text": [
      "Extracted Emails: ['support@example.com', 'sales@example.org']\n"
     ]
    }
   ],
   "source": [
    "import re\n",
    "\n",
    "def extract_emails(text):\n",
    "    \"\"\"\n",
    "    Extracts all email addresses from the given string using regular expressions.\n",
    "    \n",
    "    Args:\n",
    "    text (str): The input string containing email addresses.\n",
    "    \n",
    "    Returns:\n",
    "    list: A list of extracted email addresses.\n",
    "    \"\"\"\n",
    "\n",
    "    email_pattern = r'[a-zA-Z0-9._%+-]+@[a-zA-Z0-9.-]+\\.[a-zA-Z]{2,}'\n",
    "    emails = re.findall(email_pattern, text)\n",
    "    return emails\n",
    "\n",
    "input_text = \"Contact us at support@example.com and sales@example.org.\"\n",
    "result = extract_emails(input_text)\n",
    "print(\"Extracted Emails:\", result)"
   ]
  },
  {
   "cell_type": "code",
   "execution_count": null,
   "id": "19e8301e-a23e-48f8-a165-d46b6bd483f5",
   "metadata": {},
   "outputs": [],
   "source": []
  }
 ],
 "metadata": {
  "kernelspec": {
   "display_name": "Python 3 (ipykernel)",
   "language": "python",
   "name": "python3"
  },
  "language_info": {
   "codemirror_mode": {
    "name": "ipython",
    "version": 3
   },
   "file_extension": ".py",
   "mimetype": "text/x-python",
   "name": "python",
   "nbconvert_exporter": "python",
   "pygments_lexer": "ipython3",
   "version": "3.12.7"
  }
 },
 "nbformat": 4,
 "nbformat_minor": 5
}
