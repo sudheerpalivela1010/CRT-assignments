{
 "cells": [
  {
   "cell_type": "code",
   "execution_count": 2,
   "id": "7f80cadd-85cc-4e1f-8f16-9ad4e6d55011",
   "metadata": {},
   "outputs": [
    {
     "name": "stderr",
     "output_type": "stream",
     "text": [
      "[nltk_data] Downloading package stopwords to\n",
      "[nltk_data]     /Users/varikuntlasaimanoj/nltk_data...\n",
      "[nltk_data]   Package stopwords is already up-to-date!\n"
     ]
    },
    {
     "name": "stdout",
     "output_type": "stream",
     "text": [
      "Original Text: This is an example text. It contains some common words and stopwords that need to be removed.\n",
      "Text in Lowercase: this is an example text. it contains some common words and stopwords that need to be removed.\n",
      "Filtered Text (Stopwords Removed): example text contains common words stopwords need removed\n"
     ]
    }
   ],
   "source": [
    "# Import necessary libraries\n",
    "import nltk\n",
    "import spacy\n",
    "from nltk.corpus import stopwords\n",
    "\n",
    "# Download stopwords list from NLTK\n",
    "nltk.download('stopwords')\n",
    "\n",
    "# Initialize SpaCy's English language model\n",
    "nlp = spacy.load(\"en_core_web_sm\")\n",
    "\n",
    "# Sample text input\n",
    "text = \"This is an example text. It contains some common words and stopwords that need to be removed.\"\n",
    "\n",
    "# Convert text to lowercase\n",
    "lowercase_text = text.lower()\n",
    "\n",
    "# Tokenize the text using SpaCy (this allows us to process it more efficiently)\n",
    "doc = nlp(lowercase_text)\n",
    "\n",
    "# Get the stopwords from NLTK\n",
    "stop_words = set(stopwords.words('english'))\n",
    "\n",
    "# Remove stopwords from the text\n",
    "filtered_tokens = [token.text for token in doc if token.text not in stop_words and not token.is_punct]\n",
    "\n",
    "# Join the filtered tokens back into a string\n",
    "filtered_text = ' '.join(filtered_tokens)\n",
    "\n",
    "# Print the results\n",
    "print(\"Original Text:\", text)\n",
    "print(\"Text in Lowercase:\", lowercase_text)\n",
    "print(\"Filtered Text (Stopwords Removed):\", filtered_text)\n"
   ]
  },
  {
   "cell_type": "code",
   "execution_count": null,
   "id": "db5dc5c8-aa12-4551-84ab-1c6a19028f73",
   "metadata": {},
   "outputs": [],
   "source": []
  }
 ],
 "metadata": {
  "kernelspec": {
   "display_name": "Python 3 (ipykernel)",
   "language": "python",
   "name": "python3"
  },
  "language_info": {
   "codemirror_mode": {
    "name": "ipython",
    "version": 3
   },
   "file_extension": ".py",
   "mimetype": "text/x-python",
   "name": "python",
   "nbconvert_exporter": "python",
   "pygments_lexer": "ipython3",
   "version": "3.12.7"
  }
 },
 "nbformat": 4,
 "nbformat_minor": 5
}
